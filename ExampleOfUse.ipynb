{
 "cells": [
  {
   "cell_type": "markdown",
   "id": "e2c87847",
   "metadata": {},
   "source": [
    "# Use of statmod package with a fake dataset"
   ]
  },
  {
   "cell_type": "code",
   "execution_count": 1,
   "id": "0ebb3c6b",
   "metadata": {},
   "outputs": [],
   "source": [
    "from statmod import linear\n",
    "import pandas as pd"
   ]
  },
  {
   "cell_type": "markdown",
   "id": "2ba5f008",
   "metadata": {},
   "source": [
    "To show how to use the package i'm going to use a fake dataset with three possible regressors and one target."
   ]
  },
  {
   "cell_type": "code",
   "execution_count": 2,
   "id": "fbadad75",
   "metadata": {},
   "outputs": [
    {
     "data": {
      "text/html": [
       "<div>\n",
       "<style scoped>\n",
       "    .dataframe tbody tr th:only-of-type {\n",
       "        vertical-align: middle;\n",
       "    }\n",
       "\n",
       "    .dataframe tbody tr th {\n",
       "        vertical-align: top;\n",
       "    }\n",
       "\n",
       "    .dataframe thead th {\n",
       "        text-align: right;\n",
       "    }\n",
       "</style>\n",
       "<table border=\"1\" class=\"dataframe\">\n",
       "  <thead>\n",
       "    <tr style=\"text-align: right;\">\n",
       "      <th></th>\n",
       "      <th>y</th>\n",
       "      <th>x1</th>\n",
       "      <th>x2</th>\n",
       "      <th>x3</th>\n",
       "    </tr>\n",
       "  </thead>\n",
       "  <tbody>\n",
       "    <tr>\n",
       "      <th>0</th>\n",
       "      <td>0.469738</td>\n",
       "      <td>-1.378157</td>\n",
       "      <td>1.048472</td>\n",
       "      <td>-1.639982</td>\n",
       "    </tr>\n",
       "    <tr>\n",
       "      <th>1</th>\n",
       "      <td>0.056118</td>\n",
       "      <td>0.086049</td>\n",
       "      <td>-0.082724</td>\n",
       "      <td>0.288844</td>\n",
       "    </tr>\n",
       "    <tr>\n",
       "      <th>2</th>\n",
       "      <td>0.058006</td>\n",
       "      <td>0.353400</td>\n",
       "      <td>0.338237</td>\n",
       "      <td>0.323043</td>\n",
       "    </tr>\n",
       "    <tr>\n",
       "      <th>3</th>\n",
       "      <td>-1.104201</td>\n",
       "      <td>-0.059364</td>\n",
       "      <td>-0.058184</td>\n",
       "      <td>-0.230161</td>\n",
       "    </tr>\n",
       "    <tr>\n",
       "      <th>4</th>\n",
       "      <td>0.179603</td>\n",
       "      <td>-0.393503</td>\n",
       "      <td>-0.146603</td>\n",
       "      <td>-0.134122</td>\n",
       "    </tr>\n",
       "  </tbody>\n",
       "</table>\n",
       "</div>"
      ],
      "text/plain": [
       "          y        x1        x2        x3\n",
       "0  0.469738 -1.378157  1.048472 -1.639982\n",
       "1  0.056118  0.086049 -0.082724  0.288844\n",
       "2  0.058006  0.353400  0.338237  0.323043\n",
       "3 -1.104201 -0.059364 -0.058184 -0.230161\n",
       "4  0.179603 -0.393503 -0.146603 -0.134122"
      ]
     },
     "execution_count": 2,
     "metadata": {},
     "output_type": "execute_result"
    }
   ],
   "source": [
    "data = pd.read_csv(\"fake.csv\")\n",
    "data.head()"
   ]
  },
  {
   "cell_type": "markdown",
   "id": "394f4b7f",
   "metadata": {},
   "source": [
    "The first model computed is made with all the possible explanatory variables and the normal equation"
   ]
  },
  {
   "cell_type": "code",
   "execution_count": 3,
   "id": "aa5796f6",
   "metadata": {},
   "outputs": [],
   "source": [
    "X = data[[\"x1\", \"x2\", \"x3\"]]\n",
    "y = data[\"y\"]"
   ]
  },
  {
   "cell_type": "code",
   "execution_count": 4,
   "id": "6efb9a85",
   "metadata": {},
   "outputs": [],
   "source": [
    "dummy_model = linear(X,y)"
   ]
  },
  {
   "cell_type": "code",
   "execution_count": 5,
   "id": "36755205",
   "metadata": {},
   "outputs": [
    {
     "data": {
      "text/plain": [
       "array([ 0.01330219, -0.52341693,  0.17159209,  0.13044325])"
      ]
     },
     "execution_count": 5,
     "metadata": {},
     "output_type": "execute_result"
    }
   ],
   "source": [
    "dummy_model.normal()"
   ]
  },
  {
   "cell_type": "markdown",
   "id": "dad43e41",
   "metadata": {},
   "source": [
    "As shown by the summary, the model is quite poor $R^{2} = 0.1298$ and the regressors $x1$ and $x3$ are very correlated affecting the outcome"
   ]
  },
  {
   "cell_type": "code",
   "execution_count": 6,
   "id": "d5f3d40a",
   "metadata": {},
   "outputs": [
    {
     "name": "stdout",
     "output_type": "stream",
     "text": [
      "_______________________________________________________________\n",
      "============================SUMMARY============================\n",
      "¯¯¯¯¯¯¯¯¯¯¯¯¯¯¯¯¯¯¯¯¯¯¯¯¯¯¯¯¯¯¯¯¯¯¯¯¯¯¯¯¯¯¯¯¯¯¯¯¯¯¯¯¯¯¯¯¯¯¯¯¯¯¯\n",
      "RSS: 211.783, MSS: 31.5811, TSS: 243.364 \n",
      "Coefficient of determination: 0.1298\n",
      "Coefficient of determination adjusted: 0.1165\n",
      "F value: 9.7425\n",
      "p-value (H0: R = 0): 5e-06\n",
      "---------------------------------------------------------------\n",
      "           Estimated value  Std Error  t-value  p-value\n",
      "Intercept           0.0133     0.0733   0.1815   0.8561\n",
      "       x1          -0.5234     0.3056  -1.7130   0.0883\n",
      "       x2           0.1716     0.1166   1.4716   0.1427\n",
      "       x3           0.1304     0.2840   0.4593   0.6466\n",
      "---------------------------------------------------------------\n",
      "Multicollinearity:\n",
      "        R2     TOL      VIF\n",
      "x1  0.9485  0.0515  19.4175\n",
      "x2  0.5758  0.4242   2.3574\n",
      "x3  0.9456  0.0544  18.3824\n",
      "_______________________________________________________________\n"
     ]
    }
   ],
   "source": [
    "dummy_model.summary()"
   ]
  },
  {
   "cell_type": "markdown",
   "id": "79fffa08",
   "metadata": {},
   "source": [
    "We solve the situation by removing one of the regressors even if this doesn't improve the model outcome"
   ]
  },
  {
   "cell_type": "code",
   "execution_count": 7,
   "id": "0ad5349c",
   "metadata": {},
   "outputs": [],
   "source": [
    "x = data[[\"x1\", \"x2\"]]"
   ]
  },
  {
   "cell_type": "code",
   "execution_count": 8,
   "id": "4574efbf",
   "metadata": {},
   "outputs": [],
   "source": [
    "dummy_model = linear(x,y)"
   ]
  },
  {
   "cell_type": "code",
   "execution_count": 9,
   "id": "0ab7228b",
   "metadata": {},
   "outputs": [
    {
     "data": {
      "text/plain": [
       "array([ 0.01513369, -0.38696155,  0.13184408])"
      ]
     },
     "execution_count": 9,
     "metadata": {},
     "output_type": "execute_result"
    }
   ],
   "source": [
    "dummy_model.normal()"
   ]
  },
  {
   "cell_type": "code",
   "execution_count": 10,
   "id": "7d7a8057",
   "metadata": {},
   "outputs": [
    {
     "name": "stdout",
     "output_type": "stream",
     "text": [
      "_______________________________________________________________\n",
      "============================SUMMARY============================\n",
      "¯¯¯¯¯¯¯¯¯¯¯¯¯¯¯¯¯¯¯¯¯¯¯¯¯¯¯¯¯¯¯¯¯¯¯¯¯¯¯¯¯¯¯¯¯¯¯¯¯¯¯¯¯¯¯¯¯¯¯¯¯¯¯\n",
      "RSS: 212.0063, MSS: 31.3577, TSS: 243.364 \n",
      "Coefficient of determination: 0.1289\n",
      "Coefficient of determination adjusted: 0.1201\n",
      "F value: 14.5691\n",
      "p-value (H0: R = 0): 1e-06\n",
      "---------------------------------------------------------------\n",
      "           Estimated value  Std Error  t-value  p-value\n",
      "Intercept           0.0151     0.0732   0.2067   0.8364\n",
      "       x1          -0.3870     0.0714  -5.4225   0.0000\n",
      "       x2           0.1318     0.0782   1.6864   0.0933\n",
      "---------------------------------------------------------------\n",
      "Multicollinearity:\n",
      "        R2     TOL     VIF\n",
      "x1  0.0554  0.9446  1.0586\n",
      "x2  0.0554  0.9446  1.0586\n",
      "_______________________________________________________________\n"
     ]
    }
   ],
   "source": [
    "dummy_model.summary()"
   ]
  },
  {
   "cell_type": "markdown",
   "id": "5045cdb1",
   "metadata": {},
   "source": [
    "The `show` method allows us to see the prediction and compare this with the observations."
   ]
  },
  {
   "cell_type": "code",
   "execution_count": 11,
   "id": "f765c6d7",
   "metadata": {},
   "outputs": [
    {
     "data": {
      "image/png": "[encoded data removed]",
      "text/plain": [
       "<Figure size 432x288 with 1 Axes>"
      ]
     },
     "metadata": {
      "needs_background": "light"
     },
     "output_type": "display_data"
    }
   ],
   "source": [
    "dummy_model.show(0)"
   ]
  }
 ],
 "metadata": {
  "kernelspec": {
   "display_name": "Python 3",
   "language": "python",
   "name": "python3"
  },
  "language_info": {
   "codemirror_mode": {
    "name": "ipython",
    "version": 3
   },
   "file_extension": ".py",
   "mimetype": "text/x-python",
   "name": "python",
   "nbconvert_exporter": "python",
   "pygments_lexer": "ipython3",
   "version": "3.9.2"
  }
 },
 "nbformat": 4,
 "nbformat_minor": 5
}
